{
 "cells": [
  {
   "cell_type": "code",
   "execution_count": 13,
   "metadata": {},
   "outputs": [],
   "source": [
    "import numpy as np\n",
    "import matplotlib.pyplot as plt\n",
    "import pandas as pd\n",
    "\n",
    "#Loading the data\n",
    "dataset = pd.read_csv('train.csv')\n",
    "dataset_train=pd.read_csv('test.csv')\n",
    "\n",
    "dataset['Embarked'].replace('S','0',inplace=True)#Replace chars to ints\n",
    "dataset['Embarked'].replace('C','1',inplace=True )\n",
    "dataset['Embarked'].replace('Q','2', inplace=True)\n",
    "\n",
    "dataset_train['Embarked'].replace('S','0',inplace=True)#Replace chars to ints\n",
    "dataset_train['Embarked'].replace('C','1',inplace=True )\n",
    "dataset_train['Embarked'].replace('Q','2', inplace=True)\n",
    "\n",
    "\n",
    "\n",
    "#Taking care of missing data\n",
    "dataset['Age'].fillna((dataset['Age'].mean()), inplace=True)\n",
    "dataset['Age']=dataset['Age'].astype(int)\n",
    "dataset['Embarked'].fillna(method='backfill', inplace=True)\n",
    "\n",
    "\n",
    "#Taking care of missing data\n",
    "dataset_train['Age'].fillna((dataset_train['Age'].mean()), inplace=True)\n",
    "dataset_train['Age']=dataset_train['Age'].astype(int)\n",
    "dataset_train['Embarked'].fillna(method='backfill', inplace=True)\n",
    "\n",
    "enclude = ['Pclass','Sex','Age','SibSp','Parch','Fare','Embarked'] \n",
    "X = dataset.loc[:,enclude].values #Loading only Relevent information\n",
    "y = dataset.iloc[:,1:2].values #Survived or not data\n",
    "\n",
    "X_test= dataset_train.loc[:,enclude].values #Loading only Relevent information\n",
    "\n",
    "\n",
    "\n"
   ]
  },
  {
   "cell_type": "code",
   "execution_count": 14,
   "metadata": {},
   "outputs": [],
   "source": [
    "#Encoding categorical data \n",
    "from sklearn.preprocessing import LabelEncoder, OneHotEncoder\n",
    "labelencoder_X_Gender = LabelEncoder()\n",
    "X[:, 1] = labelencoder_X_Gender.fit_transform(X[:, 1])#Encode Gender \n",
    "\n",
    "\n"
   ]
  },
  {
   "cell_type": "code",
   "execution_count": 16,
   "metadata": {},
   "outputs": [
    {
     "ename": "TypeError",
     "evalue": "__init__() got an unexpected keyword argument 'ColumnTransformer'",
     "output_type": "error",
     "traceback": [
      "\u001b[1;31m---------------------------------------------------------------------------\u001b[0m",
      "\u001b[1;31mTypeError\u001b[0m                                 Traceback (most recent call last)",
      "\u001b[1;32m<ipython-input-16-3ed446104cb6>\u001b[0m in \u001b[0;36m<module>\u001b[1;34m\u001b[0m\n\u001b[1;32m----> 1\u001b[1;33m \u001b[0monehotencoder\u001b[0m \u001b[1;33m=\u001b[0m \u001b[0mOneHotEncoder\u001b[0m\u001b[1;33m(\u001b[0m\u001b[0mColumnTransformer\u001b[0m \u001b[1;33m=\u001b[0m \u001b[1;33m[\u001b[0m\u001b[1;36m6\u001b[0m\u001b[1;33m]\u001b[0m\u001b[1;33m)\u001b[0m\u001b[1;31m#Splitting Embarked\u001b[0m\u001b[1;33m\u001b[0m\u001b[0m\n\u001b[0m\u001b[0;32m      2\u001b[0m \u001b[0mX\u001b[0m \u001b[1;33m=\u001b[0m \u001b[0monehotencoder\u001b[0m\u001b[1;33m.\u001b[0m\u001b[0mfit_transform\u001b[0m\u001b[1;33m(\u001b[0m\u001b[0mX\u001b[0m\u001b[1;33m)\u001b[0m\u001b[1;33m.\u001b[0m\u001b[0mtoarray\u001b[0m\u001b[1;33m(\u001b[0m\u001b[1;33m)\u001b[0m\u001b[1;33m\u001b[0m\u001b[0m\n\u001b[0;32m      3\u001b[0m \u001b[0mX\u001b[0m \u001b[1;33m=\u001b[0m\u001b[0mX\u001b[0m\u001b[1;33m[\u001b[0m\u001b[1;33m:\u001b[0m\u001b[1;33m,\u001b[0m\u001b[1;36m1\u001b[0m\u001b[1;33m:\u001b[0m\u001b[1;33m]\u001b[0m\u001b[1;31m#Removing dummy veriable\u001b[0m\u001b[1;33m\u001b[0m\u001b[0m\n",
      "\u001b[1;31mTypeError\u001b[0m: __init__() got an unexpected keyword argument 'ColumnTransformer'"
     ]
    }
   ],
   "source": [
    "onehotencoder = OneHotEncoder(ColumnTransformer = [6])#Splitting Embarked\n",
    "X = onehotencoder.fit_transform(X).toarray()\n",
    "X =X[:,1:]#Removing dummy veriable"
   ]
  },
  {
   "cell_type": "code",
   "execution_count": 12,
   "metadata": {},
   "outputs": [
    {
     "data": {
      "text/plain": [
       "array([[ 0.    ,  0.    ,  0.    , ..., 22.    ,  1.    ,  7.25  ],\n",
       "       [ 0.    ,  0.    ,  0.    , ..., 38.    ,  1.    , 71.2833],\n",
       "       [ 0.    ,  0.    ,  0.    , ..., 26.    ,  0.    ,  7.925 ],\n",
       "       ...,\n",
       "       [ 0.    ,  1.    ,  0.    , ..., 29.    ,  1.    , 23.45  ],\n",
       "       [ 0.    ,  0.    ,  0.    , ..., 26.    ,  0.    , 30.    ],\n",
       "       [ 0.    ,  0.    ,  0.    , ..., 32.    ,  0.    ,  7.75  ]])"
      ]
     },
     "execution_count": 12,
     "metadata": {},
     "output_type": "execute_result"
    }
   ],
   "source": [
    "X\n"
   ]
  }
 ],
 "metadata": {
  "kernelspec": {
   "display_name": "Python 3",
   "language": "python",
   "name": "python3"
  },
  "language_info": {
   "codemirror_mode": {
    "name": "ipython",
    "version": 3
   },
   "file_extension": ".py",
   "mimetype": "text/x-python",
   "name": "python",
   "nbconvert_exporter": "python",
   "pygments_lexer": "ipython3",
   "version": "3.7.0"
  }
 },
 "nbformat": 4,
 "nbformat_minor": 2
}
